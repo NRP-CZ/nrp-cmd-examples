{
 "cells": [
  {
   "cell_type": "markdown",
   "id": "434f7791",
   "metadata": {},
   "source": [
    "# "
   ]
  },
  {
   "cell_type": "markdown",
   "id": "4176ffc9",
   "metadata": {},
   "source": [
    "# Getting datasets from Zenodo and NRP repositories\n",
    "\n",
    "This example demonstrates how to use the nrp_cmd library to download datasets from the NRP and Zenodo repositories. Please install the latest version of the nrp_cmd library before running this example."
   ]
  },
  {
   "cell_type": "markdown",
   "id": "d36860c5",
   "metadata": {},
   "source": [
    "## Synchronous client\n",
    "\n",
    "Import the synchronous API from the nrp_cmd library and initialize the connection to a repository. Let's start with Zenodo:"
   ]
  },
  {
   "cell_type": "code",
   "execution_count": 1,
   "id": "50c58179",
   "metadata": {},
   "outputs": [],
   "source": [
    "from nrp_cmd import get_sync_client\n",
    "import pandas as pd\n",
    "\n",
    "\n",
    "zenodo_client = get_sync_client(\"https://www.zenodo.org\")"
   ]
  },
  {
   "cell_type": "markdown",
   "id": "ef6c457a",
   "metadata": {},
   "source": [
    "## Downloading metadata\n",
    "\n",
    "You can use the `zenodo_client` to download metadata and datasets from Zenodo. The client provides methods to list available datasets, download them, and retrieve metadata.\n",
    "\n",
    "Let's search for a dataset by its title and download the metadata first:"
   ]
  },
  {
   "cell_type": "code",
   "execution_count": 2,
   "id": "09cab985",
   "metadata": {},
   "outputs": [
    {
     "data": {
      "text/html": [
       "<div>\n",
       "<style scoped>\n",
       "    .dataframe tbody tr th:only-of-type {\n",
       "        vertical-align: middle;\n",
       "    }\n",
       "\n",
       "    .dataframe tbody tr th {\n",
       "        vertical-align: top;\n",
       "    }\n",
       "\n",
       "    .dataframe thead th {\n",
       "        text-align: right;\n",
       "    }\n",
       "</style>\n",
       "<table border=\"1\" class=\"dataframe\">\n",
       "  <thead>\n",
       "    <tr style=\"text-align: right;\">\n",
       "      <th></th>\n",
       "      <th>id</th>\n",
       "      <th>metadata.title</th>\n",
       "      <th>created</th>\n",
       "      <th>links.self_html</th>\n",
       "    </tr>\n",
       "  </thead>\n",
       "  <tbody>\n",
       "    <tr>\n",
       "      <th>0</th>\n",
       "      <td>14753548</td>\n",
       "      <td>Precipitation</td>\n",
       "      <td>2025-01-28 09:56:26.140180+00:00</td>\n",
       "      <td>https://zenodo.org/records/14753548</td>\n",
       "    </tr>\n",
       "    <tr>\n",
       "      <th>1</th>\n",
       "      <td>6257600</td>\n",
       "      <td>21.7extreme precipitation</td>\n",
       "      <td>2022-02-24 13:02:11.535280+00:00</td>\n",
       "      <td>https://zenodo.org/records/6257600</td>\n",
       "    </tr>\n",
       "    <tr>\n",
       "      <th>2</th>\n",
       "      <td>14908501</td>\n",
       "      <td>Precipitation Efficiency</td>\n",
       "      <td>2025-04-29 06:03:35.671288+00:00</td>\n",
       "      <td>https://zenodo.org/records/14908501</td>\n",
       "    </tr>\n",
       "    <tr>\n",
       "      <th>3</th>\n",
       "      <td>4449697</td>\n",
       "      <td>Extreme Precipitation Potential and Slow-movin...</td>\n",
       "      <td>2021-01-19 11:58:32.503474+00:00</td>\n",
       "      <td>https://zenodo.org/records/4449697</td>\n",
       "    </tr>\n",
       "    <tr>\n",
       "      <th>4</th>\n",
       "      <td>2061209</td>\n",
       "      <td>Electrical Precipitation</td>\n",
       "      <td>2018-12-08 08:16:14.562145+00:00</td>\n",
       "      <td>https://zenodo.org/records/2061209</td>\n",
       "    </tr>\n",
       "    <tr>\n",
       "      <th>5</th>\n",
       "      <td>1464802</td>\n",
       "      <td>Precipitation fronts</td>\n",
       "      <td>2018-10-17 14:06:24.594783+00:00</td>\n",
       "      <td>https://zenodo.org/records/1464802</td>\n",
       "    </tr>\n",
       "    <tr>\n",
       "      <th>6</th>\n",
       "      <td>14804278</td>\n",
       "      <td>Precipitation Plot</td>\n",
       "      <td>2025-02-04 19:08:28.293340+00:00</td>\n",
       "      <td>https://zenodo.org/records/14804278</td>\n",
       "    </tr>\n",
       "    <tr>\n",
       "      <th>7</th>\n",
       "      <td>1795203</td>\n",
       "      <td>Precipitation of Salts</td>\n",
       "      <td>2018-12-01 12:23:36.685665+00:00</td>\n",
       "      <td>https://zenodo.org/records/1795203</td>\n",
       "    </tr>\n",
       "    <tr>\n",
       "      <th>8</th>\n",
       "      <td>4005573</td>\n",
       "      <td>FYRE Climate: Precipitation</td>\n",
       "      <td>2020-08-28 15:47:51.564979+00:00</td>\n",
       "      <td>https://zenodo.org/records/4005573</td>\n",
       "    </tr>\n",
       "    <tr>\n",
       "      <th>9</th>\n",
       "      <td>1299760</td>\n",
       "      <td>SCOPE Climate: precipitation</td>\n",
       "      <td>2018-06-28 15:38:28.951498+00:00</td>\n",
       "      <td>https://zenodo.org/records/1299760</td>\n",
       "    </tr>\n",
       "  </tbody>\n",
       "</table>\n",
       "</div>"
      ],
      "text/plain": [
       "         id                                     metadata.title  \\\n",
       "0  14753548                                      Precipitation   \n",
       "1   6257600                          21.7extreme precipitation   \n",
       "2  14908501                           Precipitation Efficiency   \n",
       "3   4449697  Extreme Precipitation Potential and Slow-movin...   \n",
       "4   2061209                           Electrical Precipitation   \n",
       "5   1464802                               Precipitation fronts   \n",
       "6  14804278                                 Precipitation Plot   \n",
       "7   1795203                             Precipitation of Salts   \n",
       "8   4005573                        FYRE Climate: Precipitation   \n",
       "9   1299760                       SCOPE Climate: precipitation   \n",
       "\n",
       "                           created                      links.self_html  \n",
       "0 2025-01-28 09:56:26.140180+00:00  https://zenodo.org/records/14753548  \n",
       "1 2022-02-24 13:02:11.535280+00:00   https://zenodo.org/records/6257600  \n",
       "2 2025-04-29 06:03:35.671288+00:00  https://zenodo.org/records/14908501  \n",
       "3 2021-01-19 11:58:32.503474+00:00   https://zenodo.org/records/4449697  \n",
       "4 2018-12-08 08:16:14.562145+00:00   https://zenodo.org/records/2061209  \n",
       "5 2018-10-17 14:06:24.594783+00:00   https://zenodo.org/records/1464802  \n",
       "6 2025-02-04 19:08:28.293340+00:00  https://zenodo.org/records/14804278  \n",
       "7 2018-12-01 12:23:36.685665+00:00   https://zenodo.org/records/1795203  \n",
       "8 2020-08-28 15:47:51.564979+00:00   https://zenodo.org/records/4005573  \n",
       "9 2018-06-28 15:38:28.951498+00:00   https://zenodo.org/records/1299760  "
      ]
     },
     "execution_count": 2,
     "metadata": {},
     "output_type": "execute_result"
    }
   ],
   "source": [
    "records = zenodo_client.records.search(q=\"title:precipitation\", size=10)\n",
    "df = records.as_dataframe(\"id\", \"metadata.title\", \"created\", \"links.self_html\")\n",
    "df"
   ]
  },
  {
   "cell_type": "markdown",
   "id": "8aba1f4a",
   "metadata": {},
   "source": [
    "## Using DOI to get metadata\n",
    "\n",
    "If you know the dataset's DOI, you can directly get the metadata::"
   ]
  },
  {
   "cell_type": "code",
   "execution_count": 3,
   "id": "b07be48d",
   "metadata": {},
   "outputs": [
    {
     "ename": "ModuleNotFoundError",
     "evalue": "No module named 'nrp_cmd.sync'",
     "output_type": "error",
     "traceback": [
      "\u001b[31m---------------------------------------------------------------------------\u001b[39m",
      "\u001b[31mModuleNotFoundError\u001b[39m                       Traceback (most recent call last)",
      "\u001b[36mCell\u001b[39m\u001b[36m \u001b[39m\u001b[32mIn[3]\u001b[39m\u001b[32m, line 1\u001b[39m\n\u001b[32m----> \u001b[39m\u001b[32m1\u001b[39m \u001b[38;5;28;01mfrom\u001b[39;00m\u001b[38;5;250m \u001b[39m\u001b[34;01mnrp_cmd\u001b[39;00m\u001b[34;01m.\u001b[39;00m\u001b[34;01msync\u001b[39;00m\u001b[38;5;250m \u001b[39m\u001b[38;5;28;01mimport\u001b[39;00m resolve_record_id\n\u001b[32m      4\u001b[39m doi = \u001b[33m\"\u001b[39m\u001b[33mhttps://doi.org/10.5281/zenodo.7676478\u001b[39m\u001b[33m\"\u001b[39m\n\u001b[32m      5\u001b[39m client, record_url = resolve_record_id(doi)\n",
      "\u001b[31mModuleNotFoundError\u001b[39m: No module named 'nrp_cmd.sync'"
     ]
    }
   ],
   "source": [
    "from nrp_cmd.sync import resolve_record_id\n",
    "\n",
    "\n",
    "doi = \"https://doi.org/10.5281/zenodo.7676478\"\n",
    "client, record_url = resolve_record_id(doi)\n",
    "record = client.records.read(record_url)\n",
    "print(record.metadata[\"title\"])"
   ]
  },
  {
   "cell_type": "markdown",
   "id": "94320ec8",
   "metadata": {},
   "source": [
    "\n",
    "## Listing files in a dataset\n",
    "\n",
    "To list files in a dataset, call client.files.list method with the record metadata as its argument. You can convert the result to a pandas DataFrame as well:"
   ]
  },
  {
   "cell_type": "code",
   "execution_count": null,
   "id": "fd017b2a",
   "metadata": {},
   "outputs": [],
   "source": [
    "files = client.files.list(record)\n",
    "df = files.as_dataframe(\"key\", \"size\", \"checksum\", \"links.content\")\n",
    "print(df)"
   ]
  },
  {
   "cell_type": "markdown",
   "id": "172bbfcf",
   "metadata": {},
   "source": [
    "## Downloading file to pandas DataFrame\n",
    "\n",
    "The easiest way to show the content of a file in a dataset is to pass the content url to the pandas read_csv function. This will download the file and read it into a pandas DataFrame.\n",
    "\n",
    "**Note:** This library uses yarl.URL for all URLs. You need to convert the URL to a string before passing it to pandas read_csv function."
   ]
  },
  {
   "cell_type": "code",
   "execution_count": null,
   "id": "82c29989",
   "metadata": {},
   "outputs": [],
   "source": [
    "first_csv = df[df['key'].str.endswith('.csv')].iloc[0]\n",
    "pd.read_csv(str(first_csv[\"links.content\"]))"
   ]
  },
  {
   "cell_type": "markdown",
   "id": "c8254129",
   "metadata": {},
   "source": [
    "## Downloading single file from a dataset"
   ]
  },
  {
   "cell_type": "code",
   "execution_count": null,
   "id": "8721d64c",
   "metadata": {},
   "outputs": [],
   "source": [
    "from nrp_cmd.sync_client.streams.file import FileSink\n",
    "from pathlib import Path\n",
    "\n",
    "client.files.download(files[0], FileSink(Path(\"/tmp/downloaded.bin\")))"
   ]
  },
  {
   "cell_type": "markdown",
   "id": "799e3702",
   "metadata": {},
   "source": [
    "## Downloading all dataset files to a local folder\n",
    "\n",
    "TODO: work in progress, we need a shortcut for this - just now, you can iterate over the files in the dataset and download them one by one.\n"
   ]
  }
 ],
 "metadata": {
  "kernelspec": {
   "display_name": ".venv",
   "language": "python",
   "name": "python3"
  },
  "language_info": {
   "codemirror_mode": {
    "name": "ipython",
    "version": 3
   },
   "file_extension": ".py",
   "mimetype": "text/x-python",
   "name": "python",
   "nbconvert_exporter": "python",
   "pygments_lexer": "ipython3",
   "version": "3.13.2"
  }
 },
 "nbformat": 4,
 "nbformat_minor": 5
}
