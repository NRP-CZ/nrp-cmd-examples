{
 "cells": [
  {
   "cell_type": "markdown",
   "id": "cfd10f2e",
   "metadata": {},
   "source": [
    "# Uploading datasets to NRP repositories\n",
    "\n",
    "This example demonstrates how to use the nrp_cmd library to upload datasets to NRP repositories based on NRP Invenio.\n",
    "At first, load required imports"
   ]
  },
  {
   "cell_type": "code",
   "execution_count": 2,
   "id": "2d47d062",
   "metadata": {},
   "outputs": [],
   "source": [
    "# imports\n",
    "import os\n",
    "\n",
    "from nrp_cmd import get_sync_client\n",
    "from nrp_cmd.config import RepositoryConfig\n",
    "from nrp_cmd.sync_client.streams.memory import MemorySource\n",
    "from yarl import URL"
   ]
  },
  {
   "cell_type": "markdown",
   "id": "5b0a87fe",
   "metadata": {},
   "source": [
    "## Setting up repository client\n",
    "\n",
    "You need to set up the repository client with credentials to be able to upload datasets.\n",
    "There are two ways to do this:\n",
    "1. Set up the client with a configuration file - call `nrp-cmd add repository <url> <alias>` command and follow the instructions.\n",
    "   Then, you can use `client 'get_sync_client(\"<alias>\")'` to get the client.\n",
    "2. Set up the client programmatically by providing the url and token. The configuration will not be saved, so you will need to provide it every time you run the script.\n",
    "   This approach is shown below:"
   ]
  },
  {
   "cell_type": "code",
   "execution_count": 3,
   "id": "576f8190",
   "metadata": {},
   "outputs": [],
   "source": [
    "client = get_sync_client(\n",
    "    RepositoryConfig(\n",
    "        alias=\"datarepo-test\",\n",
    "        url=URL(\"https://workflow-repo.test.du.cesnet.cz\"),\n",
    "        token=os.environ.get(\"NRP_TOKEN\", None) or input(\"Enter your API token: \"),\n",
    "    ),\n",
    ")"
   ]
  },
  {
   "cell_type": "markdown",
   "id": "a07dcee9",
   "metadata": {},
   "source": [
    "## Creating a new draft dataset\n",
    "\n",
    "Call `client.records.create(...)` to create a new draft dataset. For NRP repositories, you need to provide the community in which the dataset will be created.\n",
    "The `self_html` link can be used to access the dataset in the web interface. The `created_record.errors` attribute can be used to check for any errors that occurred during the creation process.\n",
    "See [ccmm_invenio](https://github.com/NRP-CZ/ccmm-invenio/tree/main/ccmm_invenio/fixtures) for a list of allowed vocabulary values."
   ]
  },
  {
   "cell_type": "code",
   "execution_count": 14,
   "id": "515ea1bf",
   "metadata": {},
   "outputs": [
    {
     "name": "stdout",
     "output_type": "stream",
     "text": [
      "https://workflow-repo.test.du.cesnet.cz/datasets/np6t7-t0a40/preview\n",
      "Errors: None\n"
     ]
    }
   ],
   "source": [
    "dataset_metadata = {\n",
    "        \"metadata\": {\n",
    "            \"title\": \"Test dataset\",\n",
    "            \"resource_type\": {\"id\": \"c_ddb1\"},   # Dataset resource type from vocabularies\n",
    "            \"date_issued\": \"2023-10-01\",\n",
    "        }\n",
    "    }\n",
    "\n",
    "created_record = client.records.create(dataset_metadata, community=\"generic\")\n",
    "print(created_record.links.self_html)\n",
    "print(\"Errors:\", getattr(created_record, \"errors\", None))"
   ]
  },
  {
   "cell_type": "markdown",
   "id": "326a7a8f",
   "metadata": {},
   "source": [
    "## Uploading a file (in memory) to a created draft dataset\n",
    "\n",
    "To upload a file to the created draft dataset, you can use the `client.files.upload(...)` method. This method takes a `Source` - an abstract class that provides data in a streaming manner,\n",
    "together with other metadata, such as the content type. To upload from a memory, you can use the `MemorySource` class as show below."
   ]
  },
  {
   "cell_type": "code",
   "execution_count": 16,
   "id": "d380caa2",
   "metadata": {},
   "outputs": [
    {
     "data": {
      "text/plain": [
       "File(_etag=None, key='test.txt', metadata={'title': 'A sample text file'}, links=FileLinks(self_=URL('https://workflow-repo.test.du.cesnet.cz/api/datasets/np6t7-t0a40/draft/files/test.txt'), self_html=None, content=URL('https://workflow-repo.test.du.cesnet.cz/api/datasets/np6t7-t0a40/draft/files/test.txt/content'), commit=URL('https://workflow-repo.test.du.cesnet.cz/api/datasets/np6t7-t0a40/draft/files/test.txt/commit'), parts=None), transfer=FileTransfer(type_='L'), status='completed', size=27)"
      ]
     },
     "execution_count": 16,
     "metadata": {},
     "output_type": "execute_result"
    }
   ],
   "source": [
    "m = MemorySource(\n",
    "        b\"Hello, this is a test file.\",\n",
    "        content_type=\"text/plain\",\n",
    "    )\n",
    "client.files.upload(created_record, \"test.txt\", {\"title\": \"A sample text file\"}, m)"
   ]
  },
  {
   "cell_type": "markdown",
   "id": "ff24c1a4",
   "metadata": {},
   "source": [
    "## Checking the uploaded file\n",
    "\n",
    "After the upload, you can check the uploaded file either using the API, or by navigating user to the draft dataset in the web interface."
   ]
  },
  {
   "cell_type": "code",
   "execution_count": 18,
   "id": "532d000e",
   "metadata": {},
   "outputs": [
    {
     "name": "stdout",
     "output_type": "stream",
     "text": [
      "https://workflow-repo.test.du.cesnet.cz/datasets/np6t7-t0a40/preview\n",
      "        key                                      links.content\n",
      "0  test.txt  https://workflow-repo.test.du.cesnet.cz/api/da...\n"
     ]
    }
   ],
   "source": [
    "print(created_record.links.self_html)\n",
    "files = client.files.list(created_record)\n",
    "df = files.as_dataframe(\"key\", \"links.content\")\n",
    "print(df)"
   ]
  }
 ],
 "metadata": {
  "kernelspec": {
   "display_name": ".venv",
   "language": "python",
   "name": "python3"
  },
  "language_info": {
   "codemirror_mode": {
    "name": "ipython",
    "version": 3
   },
   "file_extension": ".py",
   "mimetype": "text/x-python",
   "name": "python",
   "nbconvert_exporter": "python",
   "pygments_lexer": "ipython3",
   "version": "3.13.2"
  }
 },
 "nbformat": 4,
 "nbformat_minor": 5
}
